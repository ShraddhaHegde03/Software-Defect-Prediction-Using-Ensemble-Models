{
 "cells": [
  {
   "cell_type": "code",
   "execution_count": 1,
   "metadata": {},
   "outputs": [],
   "source": [
    "import warnings\n",
    "warnings.filterwarnings('ignore')"
   ]
  },
  {
   "cell_type": "code",
   "execution_count": 2,
   "metadata": {},
   "outputs": [],
   "source": [
    "import numpy as np\n",
    "import pandas as pd\n",
    "\n",
    "import matplotlib.pyplot as plt\n",
    "import seaborn as sns"
   ]
  },
  {
   "cell_type": "code",
   "execution_count": 3,
   "metadata": {},
   "outputs": [],
   "source": [
    "from sklearn.model_selection import train_test_split\n",
    "from FS.pso import jfs   # change this to switch algorithm "
   ]
  },
  {
   "cell_type": "code",
   "execution_count": 4,
   "metadata": {},
   "outputs": [],
   "source": [
    "from scipy.io import arff\n",
    "arff_file = arff.loadarff('archive/JM1.arff')"
   ]
  },
  {
   "cell_type": "code",
   "execution_count": 5,
   "metadata": {},
   "outputs": [],
   "source": [
    "# load data\n",
    "data  = pd.DataFrame(arff_file[0])"
   ]
  },
  {
   "cell_type": "code",
   "execution_count": 6,
   "metadata": {},
   "outputs": [
    {
     "data": {
      "text/html": [
       "<div>\n",
       "<style scoped>\n",
       "    .dataframe tbody tr th:only-of-type {\n",
       "        vertical-align: middle;\n",
       "    }\n",
       "\n",
       "    .dataframe tbody tr th {\n",
       "        vertical-align: top;\n",
       "    }\n",
       "\n",
       "    .dataframe thead th {\n",
       "        text-align: right;\n",
       "    }\n",
       "</style>\n",
       "<table border=\"1\" class=\"dataframe\">\n",
       "  <thead>\n",
       "    <tr style=\"text-align: right;\">\n",
       "      <th></th>\n",
       "      <th>LOC_BLANK</th>\n",
       "      <th>BRANCH_COUNT</th>\n",
       "      <th>LOC_CODE_AND_COMMENT</th>\n",
       "      <th>LOC_COMMENTS</th>\n",
       "      <th>CYCLOMATIC_COMPLEXITY</th>\n",
       "      <th>DESIGN_COMPLEXITY</th>\n",
       "      <th>ESSENTIAL_COMPLEXITY</th>\n",
       "      <th>LOC_EXECUTABLE</th>\n",
       "      <th>HALSTEAD_CONTENT</th>\n",
       "      <th>HALSTEAD_DIFFICULTY</th>\n",
       "      <th>...</th>\n",
       "      <th>HALSTEAD_LENGTH</th>\n",
       "      <th>HALSTEAD_LEVEL</th>\n",
       "      <th>HALSTEAD_PROG_TIME</th>\n",
       "      <th>HALSTEAD_VOLUME</th>\n",
       "      <th>NUM_OPERANDS</th>\n",
       "      <th>NUM_OPERATORS</th>\n",
       "      <th>NUM_UNIQUE_OPERANDS</th>\n",
       "      <th>NUM_UNIQUE_OPERATORS</th>\n",
       "      <th>LOC_TOTAL</th>\n",
       "      <th>label</th>\n",
       "    </tr>\n",
       "  </thead>\n",
       "  <tbody>\n",
       "    <tr>\n",
       "      <th>0</th>\n",
       "      <td>1.0</td>\n",
       "      <td>7.0</td>\n",
       "      <td>0.0</td>\n",
       "      <td>0.0</td>\n",
       "      <td>4.0</td>\n",
       "      <td>3.0</td>\n",
       "      <td>1.0</td>\n",
       "      <td>11.0</td>\n",
       "      <td>25.05</td>\n",
       "      <td>11.20</td>\n",
       "      <td>...</td>\n",
       "      <td>59.0</td>\n",
       "      <td>0.09</td>\n",
       "      <td>174.56</td>\n",
       "      <td>280.54</td>\n",
       "      <td>28.0</td>\n",
       "      <td>31.0</td>\n",
       "      <td>15.0</td>\n",
       "      <td>12.0</td>\n",
       "      <td>14.0</td>\n",
       "      <td>b'N'</td>\n",
       "    </tr>\n",
       "    <tr>\n",
       "      <th>1</th>\n",
       "      <td>5.0</td>\n",
       "      <td>37.0</td>\n",
       "      <td>0.0</td>\n",
       "      <td>6.0</td>\n",
       "      <td>19.0</td>\n",
       "      <td>16.0</td>\n",
       "      <td>10.0</td>\n",
       "      <td>85.0</td>\n",
       "      <td>81.19</td>\n",
       "      <td>27.41</td>\n",
       "      <td>...</td>\n",
       "      <td>351.0</td>\n",
       "      <td>0.04</td>\n",
       "      <td>3388.22</td>\n",
       "      <td>2225.29</td>\n",
       "      <td>147.0</td>\n",
       "      <td>204.0</td>\n",
       "      <td>59.0</td>\n",
       "      <td>22.0</td>\n",
       "      <td>98.0</td>\n",
       "      <td>b'N'</td>\n",
       "    </tr>\n",
       "    <tr>\n",
       "      <th>2</th>\n",
       "      <td>2.0</td>\n",
       "      <td>1.0</td>\n",
       "      <td>0.0</td>\n",
       "      <td>0.0</td>\n",
       "      <td>1.0</td>\n",
       "      <td>1.0</td>\n",
       "      <td>1.0</td>\n",
       "      <td>10.0</td>\n",
       "      <td>56.44</td>\n",
       "      <td>2.83</td>\n",
       "      <td>...</td>\n",
       "      <td>37.0</td>\n",
       "      <td>0.35</td>\n",
       "      <td>25.17</td>\n",
       "      <td>159.91</td>\n",
       "      <td>17.0</td>\n",
       "      <td>20.0</td>\n",
       "      <td>15.0</td>\n",
       "      <td>5.0</td>\n",
       "      <td>14.0</td>\n",
       "      <td>b'Y'</td>\n",
       "    </tr>\n",
       "    <tr>\n",
       "      <th>3</th>\n",
       "      <td>16.0</td>\n",
       "      <td>1.0</td>\n",
       "      <td>0.0</td>\n",
       "      <td>0.0</td>\n",
       "      <td>1.0</td>\n",
       "      <td>1.0</td>\n",
       "      <td>1.0</td>\n",
       "      <td>52.0</td>\n",
       "      <td>168.57</td>\n",
       "      <td>16.97</td>\n",
       "      <td>...</td>\n",
       "      <td>450.0</td>\n",
       "      <td>0.06</td>\n",
       "      <td>2697.42</td>\n",
       "      <td>2860.90</td>\n",
       "      <td>198.0</td>\n",
       "      <td>252.0</td>\n",
       "      <td>70.0</td>\n",
       "      <td>12.0</td>\n",
       "      <td>70.0</td>\n",
       "      <td>b'Y'</td>\n",
       "    </tr>\n",
       "    <tr>\n",
       "      <th>4</th>\n",
       "      <td>0.0</td>\n",
       "      <td>7.0</td>\n",
       "      <td>0.0</td>\n",
       "      <td>0.0</td>\n",
       "      <td>4.0</td>\n",
       "      <td>2.0</td>\n",
       "      <td>3.0</td>\n",
       "      <td>9.0</td>\n",
       "      <td>14.32</td>\n",
       "      <td>7.71</td>\n",
       "      <td>...</td>\n",
       "      <td>26.0</td>\n",
       "      <td>0.13</td>\n",
       "      <td>47.33</td>\n",
       "      <td>110.45</td>\n",
       "      <td>9.0</td>\n",
       "      <td>17.0</td>\n",
       "      <td>7.0</td>\n",
       "      <td>12.0</td>\n",
       "      <td>12.0</td>\n",
       "      <td>b'N'</td>\n",
       "    </tr>\n",
       "  </tbody>\n",
       "</table>\n",
       "<p>5 rows × 22 columns</p>\n",
       "</div>"
      ],
      "text/plain": [
       "   LOC_BLANK  BRANCH_COUNT  LOC_CODE_AND_COMMENT  LOC_COMMENTS  \\\n",
       "0        1.0           7.0                   0.0           0.0   \n",
       "1        5.0          37.0                   0.0           6.0   \n",
       "2        2.0           1.0                   0.0           0.0   \n",
       "3       16.0           1.0                   0.0           0.0   \n",
       "4        0.0           7.0                   0.0           0.0   \n",
       "\n",
       "   CYCLOMATIC_COMPLEXITY  DESIGN_COMPLEXITY  ESSENTIAL_COMPLEXITY  \\\n",
       "0                    4.0                3.0                   1.0   \n",
       "1                   19.0               16.0                  10.0   \n",
       "2                    1.0                1.0                   1.0   \n",
       "3                    1.0                1.0                   1.0   \n",
       "4                    4.0                2.0                   3.0   \n",
       "\n",
       "   LOC_EXECUTABLE  HALSTEAD_CONTENT  HALSTEAD_DIFFICULTY  ...  \\\n",
       "0            11.0             25.05                11.20  ...   \n",
       "1            85.0             81.19                27.41  ...   \n",
       "2            10.0             56.44                 2.83  ...   \n",
       "3            52.0            168.57                16.97  ...   \n",
       "4             9.0             14.32                 7.71  ...   \n",
       "\n",
       "   HALSTEAD_LENGTH  HALSTEAD_LEVEL  HALSTEAD_PROG_TIME  HALSTEAD_VOLUME  \\\n",
       "0             59.0            0.09              174.56           280.54   \n",
       "1            351.0            0.04             3388.22          2225.29   \n",
       "2             37.0            0.35               25.17           159.91   \n",
       "3            450.0            0.06             2697.42          2860.90   \n",
       "4             26.0            0.13               47.33           110.45   \n",
       "\n",
       "   NUM_OPERANDS  NUM_OPERATORS  NUM_UNIQUE_OPERANDS  NUM_UNIQUE_OPERATORS  \\\n",
       "0          28.0           31.0                 15.0                  12.0   \n",
       "1         147.0          204.0                 59.0                  22.0   \n",
       "2          17.0           20.0                 15.0                   5.0   \n",
       "3         198.0          252.0                 70.0                  12.0   \n",
       "4           9.0           17.0                  7.0                  12.0   \n",
       "\n",
       "   LOC_TOTAL  label  \n",
       "0       14.0   b'N'  \n",
       "1       98.0   b'N'  \n",
       "2       14.0   b'Y'  \n",
       "3       70.0   b'Y'  \n",
       "4       12.0   b'N'  \n",
       "\n",
       "[5 rows x 22 columns]"
      ]
     },
     "execution_count": 6,
     "metadata": {},
     "output_type": "execute_result"
    }
   ],
   "source": [
    "data.head()"
   ]
  },
  {
   "cell_type": "code",
   "execution_count": 7,
   "metadata": {},
   "outputs": [
    {
     "data": {
      "text/plain": [
       "b'N'    6110\n",
       "b'Y'    1672\n",
       "Name: label, dtype: int64"
      ]
     },
     "execution_count": 7,
     "metadata": {},
     "output_type": "execute_result"
    }
   ],
   "source": [
    "# number of attack labels \n",
    "data['label'].value_counts()"
   ]
  },
  {
   "cell_type": "code",
   "execution_count": 8,
   "metadata": {},
   "outputs": [],
   "source": [
    "def change_label(df):\n",
    "  df.label.replace([b'N'],'NO',inplace=True)\n",
    "  df.label.replace([b'Y'],'YES',inplace=True)"
   ]
  },
  {
   "cell_type": "code",
   "execution_count": 9,
   "metadata": {},
   "outputs": [],
   "source": [
    "change_label(data)"
   ]
  },
  {
   "cell_type": "code",
   "execution_count": 10,
   "metadata": {},
   "outputs": [
    {
     "data": {
      "text/plain": [
       "NO     6110\n",
       "YES    1672\n",
       "Name: label, dtype: int64"
      ]
     },
     "execution_count": 10,
     "metadata": {},
     "output_type": "execute_result"
    }
   ],
   "source": [
    "# distribution of attack classes\n",
    "data.label.value_counts()"
   ]
  },
  {
   "cell_type": "code",
   "execution_count": 11,
   "metadata": {},
   "outputs": [
    {
     "name": "stdout",
     "output_type": "stream",
     "text": [
      "<class 'pandas.core.frame.DataFrame'>\n",
      "RangeIndex: 7782 entries, 0 to 7781\n",
      "Data columns (total 22 columns):\n",
      " #   Column                 Non-Null Count  Dtype  \n",
      "---  ------                 --------------  -----  \n",
      " 0   LOC_BLANK              7782 non-null   float64\n",
      " 1   BRANCH_COUNT           7782 non-null   float64\n",
      " 2   LOC_CODE_AND_COMMENT   7782 non-null   float64\n",
      " 3   LOC_COMMENTS           7782 non-null   float64\n",
      " 4   CYCLOMATIC_COMPLEXITY  7782 non-null   float64\n",
      " 5   DESIGN_COMPLEXITY      7782 non-null   float64\n",
      " 6   ESSENTIAL_COMPLEXITY   7782 non-null   float64\n",
      " 7   LOC_EXECUTABLE         7782 non-null   float64\n",
      " 8   HALSTEAD_CONTENT       7782 non-null   float64\n",
      " 9   HALSTEAD_DIFFICULTY    7782 non-null   float64\n",
      " 10  HALSTEAD_EFFORT        7782 non-null   float64\n",
      " 11  HALSTEAD_ERROR_EST     7782 non-null   float64\n",
      " 12  HALSTEAD_LENGTH        7782 non-null   float64\n",
      " 13  HALSTEAD_LEVEL         7782 non-null   float64\n",
      " 14  HALSTEAD_PROG_TIME     7782 non-null   float64\n",
      " 15  HALSTEAD_VOLUME        7782 non-null   float64\n",
      " 16  NUM_OPERANDS           7782 non-null   float64\n",
      " 17  NUM_OPERATORS          7782 non-null   float64\n",
      " 18  NUM_UNIQUE_OPERANDS    7782 non-null   float64\n",
      " 19  NUM_UNIQUE_OPERATORS   7782 non-null   float64\n",
      " 20  LOC_TOTAL              7782 non-null   float64\n",
      " 21  label                  7782 non-null   object \n",
      "dtypes: float64(21), object(1)\n",
      "memory usage: 1.3+ MB\n"
     ]
    }
   ],
   "source": [
    "data.info()"
   ]
  },
  {
   "cell_type": "code",
   "execution_count": 12,
   "metadata": {},
   "outputs": [
    {
     "data": {
      "text/plain": [
       "array([0, 1])"
      ]
     },
     "execution_count": 12,
     "metadata": {},
     "output_type": "execute_result"
    }
   ],
   "source": [
    "# Import label encoder\n",
    "from sklearn import preprocessing\n",
    "\n",
    "# label_encoder object knows\n",
    "# how to understand word labels.\n",
    "label_encoder = preprocessing.LabelEncoder()\n",
    "\n",
    "# Encode labels in column 'species'.\n",
    "data['Defective']= label_encoder.fit_transform(data['label'])\n",
    "\n",
    "data['Defective'].unique()"
   ]
  },
  {
   "cell_type": "code",
   "execution_count": 13,
   "metadata": {},
   "outputs": [],
   "source": [
    "del data['label']"
   ]
  },
  {
   "cell_type": "code",
   "execution_count": 14,
   "metadata": {},
   "outputs": [],
   "source": [
    "X = data.drop([\"Defective\"],axis =1)\n",
    "y = data[\"Defective\"]"
   ]
  },
  {
   "cell_type": "code",
   "execution_count": 15,
   "metadata": {},
   "outputs": [],
   "source": [
    "from imblearn.over_sampling import SMOTE\n",
    "sm = SMOTE(random_state = 42)\n",
    "X_oversampled, y_oversampled = sm.fit_resample(X, y)"
   ]
  },
  {
   "cell_type": "code",
   "execution_count": 16,
   "metadata": {},
   "outputs": [],
   "source": [
    "X_smt = pd.DataFrame(X_oversampled, columns=X.columns)"
   ]
  },
  {
   "cell_type": "code",
   "execution_count": 17,
   "metadata": {},
   "outputs": [
    {
     "data": {
      "text/plain": [
       "(12220, 21)"
      ]
     },
     "execution_count": 17,
     "metadata": {},
     "output_type": "execute_result"
    }
   ],
   "source": [
    "X_smt.shape"
   ]
  },
  {
   "cell_type": "code",
   "execution_count": 18,
   "metadata": {},
   "outputs": [
    {
     "data": {
      "text/plain": [
       "(12220,)"
      ]
     },
     "execution_count": 18,
     "metadata": {},
     "output_type": "execute_result"
    }
   ],
   "source": [
    "y_oversampled.shape"
   ]
  },
  {
   "cell_type": "code",
   "execution_count": 19,
   "metadata": {},
   "outputs": [],
   "source": [
    "X = X_smt.values"
   ]
  },
  {
   "cell_type": "code",
   "execution_count": 20,
   "metadata": {},
   "outputs": [],
   "source": [
    "y = y_oversampled.values"
   ]
  },
  {
   "cell_type": "code",
   "execution_count": 21,
   "metadata": {},
   "outputs": [],
   "source": [
    "feat  = np.asarray(X)\n",
    "label = np.asarray(y)"
   ]
  },
  {
   "cell_type": "code",
   "execution_count": 22,
   "metadata": {},
   "outputs": [],
   "source": [
    "# split data into train & validation (70 -- 30)\n",
    "xtrain, xtest, ytrain, ytest = train_test_split(feat, label, test_size=0.3, stratify=label)\n",
    "fold = {'xt':xtrain, 'yt':ytrain, 'xv':xtest, 'yv':ytest}"
   ]
  },
  {
   "cell_type": "code",
   "execution_count": 23,
   "metadata": {},
   "outputs": [
    {
     "name": "stdout",
     "output_type": "stream",
     "text": [
      "Iteration: 1\n",
      "Best (PSO): 0.2677114020731043\n",
      "Iteration: 2\n",
      "Best (PSO): 0.2677114020731043\n",
      "Iteration: 3\n",
      "Best (PSO): 0.2677114020731043\n",
      "Iteration: 4\n",
      "Best (PSO): 0.2657571506507677\n",
      "Iteration: 5\n",
      "Best (PSO): 0.2657571506507677\n"
     ]
    }
   ],
   "source": [
    "# parameter\n",
    "k    = 5     # k-value\n",
    "N    = 5    # number of particles\n",
    "T    = 5   # maximum number of iterations\n",
    "opts = {'k':k, 'fold':fold, 'N':N, 'T':T}\n",
    "\n",
    "# perform feature selection\n",
    "fmdl = jfs(feat, label, opts)\n",
    "sf   = fmdl['sf']"
   ]
  },
  {
   "cell_type": "code",
   "execution_count": 24,
   "metadata": {},
   "outputs": [
    {
     "data": {
      "text/plain": [
       "Index(['LOC_BLANK', 'BRANCH_COUNT', 'LOC_CODE_AND_COMMENT', 'LOC_COMMENTS',\n",
       "       'CYCLOMATIC_COMPLEXITY', 'DESIGN_COMPLEXITY', 'ESSENTIAL_COMPLEXITY',\n",
       "       'LOC_EXECUTABLE', 'HALSTEAD_CONTENT', 'HALSTEAD_DIFFICULTY',\n",
       "       'HALSTEAD_EFFORT', 'HALSTEAD_ERROR_EST', 'HALSTEAD_LENGTH',\n",
       "       'HALSTEAD_LEVEL', 'HALSTEAD_PROG_TIME', 'HALSTEAD_VOLUME',\n",
       "       'NUM_OPERANDS', 'NUM_OPERATORS', 'NUM_UNIQUE_OPERANDS',\n",
       "       'NUM_UNIQUE_OPERATORS', 'LOC_TOTAL', 'Defective'],\n",
       "      dtype='object')"
      ]
     },
     "execution_count": 24,
     "metadata": {},
     "output_type": "execute_result"
    }
   ],
   "source": [
    "data.columns"
   ]
  },
  {
   "cell_type": "code",
   "execution_count": 25,
   "metadata": {},
   "outputs": [
    {
     "data": {
      "text/plain": [
       "array([ 2,  3,  4, 12, 14, 18, 19, 20])"
      ]
     },
     "execution_count": 25,
     "metadata": {},
     "output_type": "execute_result"
    }
   ],
   "source": [
    "sf"
   ]
  },
  {
   "cell_type": "code",
   "execution_count": 26,
   "metadata": {},
   "outputs": [],
   "source": [
    "# model with selected features\n",
    "num_train = np.size(xtrain, 0)\n",
    "num_valid = np.size(xtest, 0)"
   ]
  },
  {
   "cell_type": "code",
   "execution_count": 27,
   "metadata": {},
   "outputs": [],
   "source": [
    "x_train   = xtrain[:, sf]"
   ]
  },
  {
   "cell_type": "code",
   "execution_count": 28,
   "metadata": {},
   "outputs": [],
   "source": [
    "x_train   = xtrain[:, sf]\n",
    "y_train   = ytrain.reshape(num_train)  # Solve bug\n",
    "x_valid   = xtest[:, sf]\n",
    "y_valid   = ytest.reshape(num_valid)  # Solve bug"
   ]
  },
  {
   "cell_type": "code",
   "execution_count": 29,
   "metadata": {},
   "outputs": [
    {
     "name": "stdout",
     "output_type": "stream",
     "text": [
      "Feature Size: 8\n"
     ]
    }
   ],
   "source": [
    "# number of selected features\n",
    "num_feat = fmdl['nf']\n",
    "print(\"Feature Size:\", num_feat)"
   ]
  },
  {
   "cell_type": "code",
   "execution_count": 30,
   "metadata": {},
   "outputs": [],
   "source": [
    "X_fea = pd.DataFrame(x_train)\n",
    "y_fea = pd.DataFrame(y_train)"
   ]
  },
  {
   "cell_type": "code",
   "execution_count": 31,
   "metadata": {},
   "outputs": [],
   "source": [
    "result = pd.concat([X_fea, y_fea], axis=1, join='inner')"
   ]
  },
  {
   "cell_type": "code",
   "execution_count": 32,
   "metadata": {},
   "outputs": [],
   "source": [
    "result.to_csv('jm1_processed.csv')"
   ]
  },
  {
   "cell_type": "code",
   "execution_count": 33,
   "metadata": {},
   "outputs": [
    {
     "data": {
      "image/png": "[encoded data removed]",
      "text/plain": [
       "<Figure size 432x288 with 1 Axes>"
      ]
     },
     "metadata": {
      "needs_background": "light"
     },
     "output_type": "display_data"
    }
   ],
   "source": [
    "# plot convergence\n",
    "curve   = fmdl['c']\n",
    "curve   = curve.reshape(np.size(curve,1))\n",
    "x       = np.arange(0, opts['T'], 1.0) + 1.0\n",
    "\n",
    "fig, ax = plt.subplots()\n",
    "ax.plot(x, curve, 'o-')\n",
    "ax.set_xlabel('Number of Iterations')\n",
    "ax.set_ylabel('Fitness')\n",
    "ax.set_title('PSO')\n",
    "ax.grid()\n",
    "plt.show()"
   ]
  },
  {
   "cell_type": "code",
   "execution_count": 34,
   "metadata": {},
   "outputs": [],
   "source": [
    "ML_Model = []\n",
    "accuracy = []\n",
    "precision = []\n",
    "recall = []\n",
    "f1score = []\n",
    "auc = []\n",
    "spec = []\n",
    "sens = []\n",
    "\n",
    "\n",
    "#function to call for storing the results\n",
    "def storeResults(model, a,b,c,d,e,f,g):\n",
    "    ML_Model.append(model)\n",
    "    accuracy.append(round(a, 3))\n",
    "    precision.append(round(b, 3))\n",
    "    recall.append(round(c, 3))\n",
    "    f1score.append(round(d, 3))\n",
    "    auc.append(round(e,3))\n",
    "    spec.append(round(f,3))\n",
    "    sens.append(round(g,3))"
   ]
  },
  {
   "cell_type": "code",
   "execution_count": 35,
   "metadata": {},
   "outputs": [],
   "source": [
    "from sklearn.metrics import accuracy_score, precision_score, recall_score, f1_score, roc_auc_score\n",
    "from imblearn.metrics import specificity_score,sensitivity_score"
   ]
  },
  {
   "cell_type": "markdown",
   "metadata": {},
   "source": [
    "# Random Forest"
   ]
  },
  {
   "cell_type": "code",
   "execution_count": 36,
   "metadata": {},
   "outputs": [],
   "source": [
    "from sklearn.ensemble import RandomForestClassifier\n",
    "rf = RandomForestClassifier(random_state=42)\n",
    "rf.fit(x_train, y_train)\n",
    "\n",
    "y_pred    = rf.predict(x_valid)\n",
    "\n",
    "rf_acc = accuracy_score(y_pred, y_valid)\n",
    "rf_prec = precision_score(y_pred, y_valid,average='weighted')\n",
    "rf_rec = recall_score(y_pred, y_valid,average='weighted')\n",
    "rf_f1 = f1_score(y_pred, y_valid,average='weighted')\n",
    "rf_auroc = roc_auc_score(y_train, rf.predict_proba(x_train)[:, 1])\n",
    "rf_spec = specificity_score(y_valid, y_pred, average='weighted')\n",
    "rf_sens = sensitivity_score(y_valid, y_pred, average='weighted')"
   ]
  },
  {
   "cell_type": "code",
   "execution_count": 37,
   "metadata": {},
   "outputs": [],
   "source": [
    "storeResults('Random Forest',rf_acc,rf_prec,rf_rec,rf_f1,rf_auroc,rf_spec,rf_sens)"
   ]
  },
  {
   "cell_type": "markdown",
   "metadata": {},
   "source": [
    "# SVM"
   ]
  },
  {
   "cell_type": "code",
   "execution_count": 38,
   "metadata": {},
   "outputs": [],
   "source": [
    "from sklearn.svm import SVC\n",
    "svm = SVC(probability=True)\n",
    "svm.fit(x_train, y_train)\n",
    "\n",
    "y_pred    = svm.predict(x_valid)\n",
    "\n",
    "svm_acc = accuracy_score(y_pred, y_valid)\n",
    "svm_prec = precision_score(y_pred, y_valid,average='weighted')\n",
    "svm_rec = recall_score(y_pred, y_valid,average='weighted')\n",
    "svm_f1 = f1_score(y_pred, y_valid,average='weighted')\n",
    "svm_auroc = roc_auc_score(y_train, svm.predict_proba(x_train)[:, 1])\n",
    "svm_spec = specificity_score(y_valid, y_pred, average='weighted')\n",
    "svm_sens = sensitivity_score(y_valid, y_pred, average='weighted')"
   ]
  },
  {
   "cell_type": "code",
   "execution_count": 39,
   "metadata": {},
   "outputs": [],
   "source": [
    "storeResults('Support Vector Machine',svm_acc,svm_prec,svm_rec,svm_f1,svm_auroc,svm_spec,svm_sens)"
   ]
  },
  {
   "cell_type": "markdown",
   "metadata": {},
   "source": [
    "# Naive Bayes"
   ]
  },
  {
   "cell_type": "code",
   "execution_count": 40,
   "metadata": {},
   "outputs": [],
   "source": [
    "from sklearn.naive_bayes import GaussianNB\n",
    "lr = GaussianNB()\n",
    "lr.fit(x_train, y_train)\n",
    "\n",
    "y_pred    = lr.predict(x_valid)\n",
    "\n",
    "lr_acc = accuracy_score(y_pred, y_valid)\n",
    "lr_prec = precision_score(y_pred, y_valid,average='weighted')\n",
    "lr_rec = recall_score(y_pred, y_valid,average='weighted')\n",
    "lr_f1 = f1_score(y_pred, y_valid,average='weighted')\n",
    "lr_auroc = roc_auc_score(y_train, lr.predict_proba(x_train)[:, 1])\n",
    "lr_spec = specificity_score(y_valid, y_pred, average='weighted')\n",
    "lr_sens = sensitivity_score(y_valid, y_pred, average='weighted')"
   ]
  },
  {
   "cell_type": "code",
   "execution_count": 41,
   "metadata": {},
   "outputs": [],
   "source": [
    "storeResults('NaiveBayes',lr_acc,lr_prec,lr_rec,lr_f1,lr_auroc,lr_spec,lr_sens)"
   ]
  },
  {
   "cell_type": "markdown",
   "metadata": {},
   "source": [
    "# ANN-MLP"
   ]
  },
  {
   "cell_type": "code",
   "execution_count": 42,
   "metadata": {},
   "outputs": [],
   "source": [
    "from sklearn.neural_network import MLPClassifier\n",
    "mlp = MLPClassifier(random_state=1)\n",
    "mlp.fit(x_train, y_train)\n",
    "\n",
    "y_pred    = mlp.predict(x_valid)\n",
    "\n",
    "mlp_acc = accuracy_score(y_pred, y_valid)\n",
    "mlp_prec = precision_score(y_pred, y_valid,average='weighted')\n",
    "mlp_rec = recall_score(y_pred, y_valid,average='weighted')\n",
    "mlp_f1 = f1_score(y_pred, y_valid,average='weighted')\n",
    "mlp_auroc = roc_auc_score(y_train, mlp.predict_proba(x_train)[:, 1])\n",
    "mlp_spec = specificity_score(y_valid, y_pred, average='weighted')\n",
    "mlp_sens = sensitivity_score(y_valid, y_pred, average='weighted')"
   ]
  },
  {
   "cell_type": "code",
   "execution_count": 43,
   "metadata": {},
   "outputs": [],
   "source": [
    "storeResults('MLP Classifier',mlp_acc,mlp_prec,mlp_rec,mlp_f1,mlp_auroc,mlp_spec,mlp_sens)"
   ]
  },
  {
   "cell_type": "markdown",
   "metadata": {},
   "source": [
    "# Adaptive Voting Classifier"
   ]
  },
  {
   "cell_type": "code",
   "execution_count": 44,
   "metadata": {},
   "outputs": [],
   "source": [
    "from sklearn.ensemble import VotingClassifier\n",
    "clf = VotingClassifier(estimators=[('RF', rf), ('NB', lr), ('ANN', mlp), ('svm', svm)], voting='soft')\n",
    "\n",
    "clf.fit(x_train, y_train)\n",
    "\n",
    "y_pred    = clf.predict(x_valid)\n",
    "\n",
    "vot_acc = accuracy_score(y_pred, y_valid)\n",
    "vot_prec = precision_score(y_pred, y_valid,average='weighted')\n",
    "vot_rec = recall_score(y_pred, y_valid,average='weighted')\n",
    "vot_f1 = f1_score(y_pred, y_valid,average='weighted')\n",
    "vot_auroc = roc_auc_score(y_train, clf.predict_proba(x_train)[:, 1])\n",
    "vot_spec = specificity_score(y_valid, y_pred, average='weighted')\n",
    "vot_sens = sensitivity_score(y_valid, y_pred, average='weighted')"
   ]
  },
  {
   "cell_type": "code",
   "execution_count": 45,
   "metadata": {},
   "outputs": [],
   "source": [
    "storeResults('Adaptive Voting Classifier',vot_acc,vot_prec,vot_rec,vot_f1,vot_auroc,vot_spec,vot_sens)"
   ]
  },
  {
   "cell_type": "markdown",
   "metadata": {},
   "source": [
    "# Stacking CLassifier"
   ]
  },
  {
   "cell_type": "code",
   "execution_count": 46,
   "metadata": {},
   "outputs": [],
   "source": [
    "from sklearn.ensemble import StackingClassifier\n",
    "from sklearn.tree import DecisionTreeClassifier\n",
    "from lightgbm import LGBMClassifier\n",
    "\n",
    "tree = DecisionTreeClassifier(random_state = 0)\n",
    "\n",
    "estimators = [('rf', rf),('dt', tree)]\n",
    "\n",
    "eclf1 = StackingClassifier(estimators=estimators, final_estimator=LGBMClassifier(n_estimators=100))\n",
    "\n",
    "eclf1.fit(x_train, y_train)\n",
    "\n",
    "y_pred    = eclf1.predict(x_valid)\n",
    "\n",
    "stac_acc = (accuracy_score(y_pred, y_valid))\n",
    "stac_prec = precision_score(y_pred, y_valid,average='weighted')\n",
    "stac_rec = recall_score(y_pred, y_valid,average='weighted')\n",
    "stac_f1 = f1_score(y_pred, y_valid,average='weighted')\n",
    "stac_auroc = roc_auc_score(y_train, eclf1.predict_proba(x_train)[:, 1])\n",
    "stac_spec = specificity_score(y_valid, y_pred, average='weighted')\n",
    "stac_sens = sensitivity_score(y_valid, y_pred, average='weighted')"
   ]
  },
  {
   "cell_type": "code",
   "execution_count": 48,
   "metadata": {},
   "outputs": [],
   "source": [
    "storeResults('Stacking Classifier',stac_acc,stac_prec,stac_rec,stac_f1,stac_auroc,stac_spec,stac_sens)"
   ]
  },
  {
   "cell_type": "markdown",
   "metadata": {},
   "source": [
    "# Comparison"
   ]
  },
  {
   "cell_type": "code",
   "execution_count": 49,
   "metadata": {},
   "outputs": [],
   "source": [
    "#creating dataframe\n",
    "result = pd.DataFrame({ 'ML Model' : ML_Model,\n",
    "                        'Accuracy' : accuracy,\n",
    "                       'Precision': precision,\n",
    "                       'Recall'   : recall, \n",
    "                       'F1_score' : f1score,\n",
    "                       'AUC Score' : auc,\n",
    "                       'Specificity' : spec,\n",
    "                       'Sensitivity' : sens\n",
    "                        \n",
    "                      }) "
   ]
  },
  {
   "cell_type": "code",
   "execution_count": 50,
   "metadata": {},
   "outputs": [
    {
     "data": {
      "text/html": [
       "<div>\n",
       "<style scoped>\n",
       "    .dataframe tbody tr th:only-of-type {\n",
       "        vertical-align: middle;\n",
       "    }\n",
       "\n",
       "    .dataframe tbody tr th {\n",
       "        vertical-align: top;\n",
       "    }\n",
       "\n",
       "    .dataframe thead th {\n",
       "        text-align: right;\n",
       "    }\n",
       "</style>\n",
       "<table border=\"1\" class=\"dataframe\">\n",
       "  <thead>\n",
       "    <tr style=\"text-align: right;\">\n",
       "      <th></th>\n",
       "      <th>ML Model</th>\n",
       "      <th>Accuracy</th>\n",
       "      <th>Precision</th>\n",
       "      <th>Recall</th>\n",
       "      <th>F1_score</th>\n",
       "      <th>AUC Score</th>\n",
       "      <th>Specificity</th>\n",
       "      <th>Sensitivity</th>\n",
       "    </tr>\n",
       "  </thead>\n",
       "  <tbody>\n",
       "    <tr>\n",
       "      <th>0</th>\n",
       "      <td>Random Forest</td>\n",
       "      <td>0.840</td>\n",
       "      <td>0.840</td>\n",
       "      <td>0.840</td>\n",
       "      <td>0.840</td>\n",
       "      <td>1.000</td>\n",
       "      <td>0.840</td>\n",
       "      <td>0.840</td>\n",
       "    </tr>\n",
       "    <tr>\n",
       "      <th>1</th>\n",
       "      <td>Support Vector Machine</td>\n",
       "      <td>0.588</td>\n",
       "      <td>0.786</td>\n",
       "      <td>0.588</td>\n",
       "      <td>0.633</td>\n",
       "      <td>0.643</td>\n",
       "      <td>0.588</td>\n",
       "      <td>0.588</td>\n",
       "    </tr>\n",
       "    <tr>\n",
       "      <th>2</th>\n",
       "      <td>NaiveBayes</td>\n",
       "      <td>0.582</td>\n",
       "      <td>0.825</td>\n",
       "      <td>0.582</td>\n",
       "      <td>0.639</td>\n",
       "      <td>0.624</td>\n",
       "      <td>0.582</td>\n",
       "      <td>0.582</td>\n",
       "    </tr>\n",
       "    <tr>\n",
       "      <th>3</th>\n",
       "      <td>MLP Classifier</td>\n",
       "      <td>0.608</td>\n",
       "      <td>0.622</td>\n",
       "      <td>0.608</td>\n",
       "      <td>0.611</td>\n",
       "      <td>0.613</td>\n",
       "      <td>0.608</td>\n",
       "      <td>0.608</td>\n",
       "    </tr>\n",
       "    <tr>\n",
       "      <th>4</th>\n",
       "      <td>Adaptive Voting Classifier</td>\n",
       "      <td>0.661</td>\n",
       "      <td>0.735</td>\n",
       "      <td>0.661</td>\n",
       "      <td>0.674</td>\n",
       "      <td>0.851</td>\n",
       "      <td>0.661</td>\n",
       "      <td>0.661</td>\n",
       "    </tr>\n",
       "    <tr>\n",
       "      <th>5</th>\n",
       "      <td>Stacking Classifier</td>\n",
       "      <td>0.836</td>\n",
       "      <td>0.837</td>\n",
       "      <td>0.836</td>\n",
       "      <td>0.836</td>\n",
       "      <td>1.000</td>\n",
       "      <td>0.836</td>\n",
       "      <td>0.836</td>\n",
       "    </tr>\n",
       "  </tbody>\n",
       "</table>\n",
       "</div>"
      ],
      "text/plain": [
       "                     ML Model  Accuracy  Precision  Recall  F1_score  \\\n",
       "0               Random Forest     0.840      0.840   0.840     0.840   \n",
       "1      Support Vector Machine     0.588      0.786   0.588     0.633   \n",
       "2                  NaiveBayes     0.582      0.825   0.582     0.639   \n",
       "3              MLP Classifier     0.608      0.622   0.608     0.611   \n",
       "4  Adaptive Voting Classifier     0.661      0.735   0.661     0.674   \n",
       "5         Stacking Classifier     0.836      0.837   0.836     0.836   \n",
       "\n",
       "   AUC Score  Specificity  Sensitivity  \n",
       "0      1.000        0.840        0.840  \n",
       "1      0.643        0.588        0.588  \n",
       "2      0.624        0.582        0.582  \n",
       "3      0.613        0.608        0.608  \n",
       "4      0.851        0.661        0.661  \n",
       "5      1.000        0.836        0.836  "
      ]
     },
     "execution_count": 50,
     "metadata": {},
     "output_type": "execute_result"
    }
   ],
   "source": [
    "result"
   ]
  },
  {
   "cell_type": "markdown",
   "metadata": {},
   "source": [
    "# Graph"
   ]
  },
  {
   "cell_type": "code",
   "execution_count": 51,
   "metadata": {},
   "outputs": [],
   "source": [
    "classifier = ML_Model\n",
    "y_pos = np.arange(len(classifier))"
   ]
  },
  {
   "cell_type": "markdown",
   "metadata": {},
   "source": [
    "# Accuracy"
   ]
  },
  {
   "cell_type": "code",
   "execution_count": 52,
   "metadata": {},
   "outputs": [
    {
     "data": {
      "image/png": "[encoded data removed]",
      "text/plain": [
       "<Figure size 432x288 with 1 Axes>"
      ]
     },
     "metadata": {
      "needs_background": "light"
     },
     "output_type": "display_data"
    }
   ],
   "source": [
    "import matplotlib.pyplot as plt2\n",
    "plt2.barh(y_pos, accuracy, align='center', alpha=0.5,color='blue')\n",
    "plt2.yticks(y_pos, classifier)\n",
    "plt2.xlabel('Accuracy Score')\n",
    "plt2.title('Classification Performance')\n",
    "plt2.show()"
   ]
  },
  {
   "cell_type": "markdown",
   "metadata": {},
   "source": [
    "# Precision"
   ]
  },
  {
   "cell_type": "code",
   "execution_count": 53,
   "metadata": {},
   "outputs": [
    {
     "data": {
      "image/png": "[encoded data removed]",
      "text/plain": [
       "<Figure size 432x288 with 1 Axes>"
      ]
     },
     "metadata": {
      "needs_background": "light"
     },
     "output_type": "display_data"
    }
   ],
   "source": [
    "import matplotlib.pyplot as plt2\n",
    "plt2.barh(y_pos, precision, align='center', alpha=0.5,color='red')\n",
    "plt2.yticks(y_pos, classifier)\n",
    "plt2.xlabel('Precision Score')\n",
    "plt2.title('Classification Performance')\n",
    "plt2.show()"
   ]
  },
  {
   "cell_type": "markdown",
   "metadata": {},
   "source": [
    "# Recall"
   ]
  },
  {
   "cell_type": "code",
   "execution_count": 54,
   "metadata": {},
   "outputs": [
    {
     "data": {
      "image/png": "[encoded data removed]",
      "text/plain": [
       "<Figure size 432x288 with 1 Axes>"
      ]
     },
     "metadata": {
      "needs_background": "light"
     },
     "output_type": "display_data"
    }
   ],
   "source": [
    "import matplotlib.pyplot as plt2\n",
    "plt2.barh(y_pos, recall, align='center', alpha=0.5,color='yellow')\n",
    "plt2.yticks(y_pos, classifier)\n",
    "plt2.xlabel('Recall Score')\n",
    "plt2.title('Classification Performance')\n",
    "plt2.show()"
   ]
  },
  {
   "cell_type": "markdown",
   "metadata": {},
   "source": [
    "# F1 Score"
   ]
  },
  {
   "cell_type": "code",
   "execution_count": 55,
   "metadata": {},
   "outputs": [
    {
     "data": {
      "image/png": "[encoded data removed]",
      "text/plain": [
       "<Figure size 432x288 with 1 Axes>"
      ]
     },
     "metadata": {
      "needs_background": "light"
     },
     "output_type": "display_data"
    }
   ],
   "source": [
    "import matplotlib.pyplot as plt2\n",
    "plt2.barh(y_pos, f1score, align='center', alpha=0.5,color='pink')\n",
    "plt2.yticks(y_pos, classifier)\n",
    "plt2.xlabel('F1 Score')\n",
    "plt2.title('Classification Performance')\n",
    "plt2.show()"
   ]
  },
  {
   "cell_type": "markdown",
   "metadata": {},
   "source": [
    "# AUC Score"
   ]
  },
  {
   "cell_type": "code",
   "execution_count": 56,
   "metadata": {},
   "outputs": [
    {
     "data": {
      "image/png": "[encoded data removed]",
      "text/plain": [
       "<Figure size 432x288 with 1 Axes>"
      ]
     },
     "metadata": {
      "needs_background": "light"
     },
     "output_type": "display_data"
    }
   ],
   "source": [
    "import matplotlib.pyplot as plt2\n",
    "plt2.barh(y_pos, auc, align='center', alpha=0.5,color='orange')\n",
    "plt2.yticks(y_pos, classifier)\n",
    "plt2.xlabel('AUC Score')\n",
    "plt2.title('Classification Performance')\n",
    "plt2.show()"
   ]
  },
  {
   "cell_type": "markdown",
   "metadata": {},
   "source": [
    "# Specificity"
   ]
  },
  {
   "cell_type": "code",
   "execution_count": 57,
   "metadata": {},
   "outputs": [
    {
     "data": {
      "image/png": "[encoded data removed]",
      "text/plain": [
       "<Figure size 432x288 with 1 Axes>"
      ]
     },
     "metadata": {
      "needs_background": "light"
     },
     "output_type": "display_data"
    }
   ],
   "source": [
    "import matplotlib.pyplot as plt2\n",
    "plt2.barh(y_pos, spec, align='center', alpha=0.5,color='purple')\n",
    "plt2.yticks(y_pos, classifier)\n",
    "plt2.xlabel('Specificity Score')\n",
    "plt2.title('Classification Performance')\n",
    "plt2.show()"
   ]
  },
  {
   "cell_type": "markdown",
   "metadata": {},
   "source": [
    "# Senseitivity"
   ]
  },
  {
   "cell_type": "code",
   "execution_count": 58,
   "metadata": {},
   "outputs": [
    {
     "data": {
      "image/png": "[encoded data removed]",
      "text/plain": [
       "<Figure size 432x288 with 1 Axes>"
      ]
     },
     "metadata": {
      "needs_background": "light"
     },
     "output_type": "display_data"
    }
   ],
   "source": [
    "import matplotlib.pyplot as plt2\n",
    "plt2.barh(y_pos, sens, align='center', alpha=0.5,color='gold')\n",
    "plt2.yticks(y_pos, classifier)\n",
    "plt2.xlabel('Senseitivity Score')\n",
    "plt2.title('Classification Performance')\n",
    "plt2.show()"
   ]
  },
  {
   "cell_type": "code",
   "execution_count": null,
   "metadata": {},
   "outputs": [],
   "source": []
  }
 ],
 "metadata": {
  "kernelspec": {
   "display_name": "Python 3 (ipykernel)",
   "language": "python",
   "name": "python3"
  },
  "language_info": {
   "codemirror_mode": {
    "name": "ipython",
    "version": 3
   },
   "file_extension": ".py",
   "mimetype": "text/x-python",
   "name": "python",
   "nbconvert_exporter": "python",
   "pygments_lexer": "ipython3",
   "version": "3.10.9"
  }
 },
 "nbformat": 4,
 "nbformat_minor": 2
}
